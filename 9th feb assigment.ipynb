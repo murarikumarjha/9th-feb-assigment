{
 "cells": [
  {
   "cell_type": "markdown",
   "id": "1d6149f2-ddfa-439f-b9d5-553786b6b472",
   "metadata": {},
   "source": [
    "Q1, Create a vehicle class with an init method having instance variables as name_of_vehicle, max_speed\n",
    "and average_of_vehicle."
   ]
  },
  {
   "cell_type": "code",
   "execution_count": 18,
   "id": "49a1f80f-0ab0-4571-9e87-a3c1cf78c188",
   "metadata": {},
   "outputs": [
    {
     "name": "stdout",
     "output_type": "stream",
     "text": [
      "211 23 mahindra\n"
     ]
    }
   ],
   "source": [
    "class Vehicle:\n",
    "    def __init__(self,name_of_vechicle,max_speed,average_of_vechile):\n",
    "        self.name_of_vechicle = name_of_vechicle\n",
    "        self.max_speed = max_speed\n",
    "        self.average_of_vechile = average_of_vechile\n",
    "        \n",
    "    def show(self):\n",
    "        print( self.max_speed, self.average_of_vechile, self.name_of_vechicle)\n",
    "        \n",
    "obj = Vehicle(\"mahindra\",211, 23)\n",
    "obj.show()\n"
   ]
  },
  {
   "cell_type": "markdown",
   "id": "b24b00a2-2ce9-4630-af5e-90394ff9a90c",
   "metadata": {},
   "source": [
    "Q2. Create a child class car from the vehicle class created in Que 1, which will inherit the vehicle class.\n",
    "Create a method named seating_capacity which takes capacity as an argument and returns the name of\n",
    "the vehicle and its seating capacity."
   ]
  },
  {
   "cell_type": "code",
   "execution_count": 28,
   "id": "47a1bb66-4a03-4cf3-8609-602e87146243",
   "metadata": {},
   "outputs": [],
   "source": [
    "class Vehicle:\n",
    "    def __init__(self, name_of_vehicle, max_speed, average_of_vehicle):\n",
    "        self.name_of_vehicle = name_of_vehicle\n",
    "        self.max_speed = max_speed\n",
    "        self.average_of_vehicle = average_of_vehicle\n",
    "\n",
    "class Car(Vehicle):\n",
    "    def seating_capacity(self, capacity):\n",
    "        return self.name_of_vehicle, capacity\n"
   ]
  },
  {
   "cell_type": "markdown",
   "id": "baeb410b-2af5-4fc6-8128-9aa1f5255921",
   "metadata": {},
   "source": [
    "Q3. What is multiple inheritance? Write a python code to demonstrate multiple inheritance."
   ]
  },
  {
   "cell_type": "code",
   "execution_count": 29,
   "id": "f4f49cf6-4f16-4482-9c72-ce379a1dc56f",
   "metadata": {},
   "outputs": [
    {
     "name": "stdout",
     "output_type": "stream",
     "text": [
      "21\n",
      "21\n"
     ]
    }
   ],
   "source": [
    "# When a class is derived from more than one base class it \n",
    "# is called multiple Inheritance. The derived class inherits all the features of the base case.\n",
    "class Geek:\n",
    "\tdef __init__(self, age = 0):\n",
    "\t\tself._age = age\n",
    "\t\n",
    "\t# getter method\n",
    "\tdef get_age(self):\n",
    "\t\treturn self._age\n",
    "\t\n",
    "\t# setter method\n",
    "\tdef set_age(self, x):\n",
    "\t\tself._age = x\n",
    "\n",
    "raj = Geek()\n",
    "\n",
    "# setting the age using setter\n",
    "raj.set_age(21)\n",
    "\n",
    "# retrieving age using getter\n",
    "print(raj.get_age())\n",
    "\n",
    "print(raj._age)"
   ]
  },
  {
   "cell_type": "markdown",
   "id": "dc9ce2aa-1989-444c-b1ce-bbf91cebc1f2",
   "metadata": {},
   "source": [
    "Q4. What are getter and setter in python? Create a class and create a getter and a setter method in this\n",
    "class."
   ]
  },
  {
   "cell_type": "markdown",
   "id": "1b514da3-05e7-45bd-9667-250c74814488",
   "metadata": {},
   "source": [
    "In Python, the concept of getters and setters is not used as in other object-oriented programming \n",
    "languages. Instead, the @property decorator is used to define a method as a getter, and the @<method>.\n",
    "setter decorator is used to define a method as a setter12. The @property decorator is used to define a method as\n",
    "a getter method, which is used to retrieve the value of a variable, while the @<method>.setter decorator is used to define a method as a setter method, which is used to set or update the \n",
    "value of a variable"
   ]
  },
  {
   "cell_type": "code",
   "execution_count": 6,
   "id": "d8190040-9e89-4cf6-bbf2-a08bf15583c9",
   "metadata": {},
   "outputs": [],
   "source": [
    "class Student:\n",
    "    \n",
    "    def SetName(self,n):\n",
    "        self.__Name = n \n",
    "    def GetName(self):\n",
    "        return self.__Name \n",
    "    \n",
    "    def Setmarks(self,m):\n",
    "        self.__marks = m\n",
    "    def Getmarks(self):\n",
    "        return self.__marks\n",
    "    \n",
    "    def displayinfo(self):\n",
    "        print(\"Name of student is\", self.__Name)\n",
    "        print(\"Marks of students is\", self.__marks)"
   ]
  },
  {
   "cell_type": "code",
   "execution_count": 7,
   "id": "3063637f-7da6-4721-8e41-d1d917c473be",
   "metadata": {},
   "outputs": [
    {
     "name": "stdout",
     "output_type": "stream",
     "text": [
      "Name of student is Murari\n",
      "Marks of students is 87\n"
     ]
    }
   ],
   "source": [
    "obj = Student()\n",
    "obj.SetName(\"Murari\")\n",
    "obj.Setmarks(87)\n",
    "obj.displayinfo()"
   ]
  },
  {
   "cell_type": "markdown",
   "id": "776c1a20-c8d7-4016-b250-6e91601ffc3f",
   "metadata": {},
   "source": [
    "Method overriding is an ability of any object-oriented programming language that allows a subclass or \n",
    "child class to provide a specific implementation of a method that is already provided by one of its\n",
    "super-classes or parent classes. When a method in a subclass has the same name, same parameters or \n",
    "signature and same return type(or sub-type) as a method in its super-class, then the method in the \n",
    "subclass is said to override the method in the \n",
    "super-class."
   ]
  }
 ],
 "metadata": {
  "kernelspec": {
   "display_name": "Python 3 (ipykernel)",
   "language": "python",
   "name": "python3"
  },
  "language_info": {
   "codemirror_mode": {
    "name": "ipython",
    "version": 3
   },
   "file_extension": ".py",
   "mimetype": "text/x-python",
   "name": "python",
   "nbconvert_exporter": "python",
   "pygments_lexer": "ipython3",
   "version": "3.10.8"
  }
 },
 "nbformat": 4,
 "nbformat_minor": 5
}
